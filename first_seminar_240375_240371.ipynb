{
  "nbformat": 4,
  "nbformat_minor": 0,
  "metadata": {
    "colab": {
      "provenance": []
    },
    "kernelspec": {
      "name": "python3",
      "display_name": "Python 3"
    },
    "language_info": {
      "name": "python"
    }
  },
  "cells": [
    {
      "cell_type": "code",
      "execution_count": 1,
      "metadata": {
        "colab": {
          "base_uri": "https://localhost:8080/"
        },
        "id": "IB0cVoeii8WI",
        "outputId": "46d1c4b0-5821-4b04-d3c7-8a36ec8a9e88"
      },
      "outputs": [
        {
          "output_type": "stream",
          "name": "stdout",
          "text": [
            "\u001b[33m\r0% [Working]\u001b[0m\r            \rGet:1 https://cloud.r-project.org/bin/linux/ubuntu jammy-cran40/ InRelease [3,626 B]\n",
            "Hit:2 https://developer.download.nvidia.com/compute/cuda/repos/ubuntu2204/x86_64  InRelease\n",
            "Get:3 http://security.ubuntu.com/ubuntu jammy-security InRelease [129 kB]\n",
            "Hit:4 http://archive.ubuntu.com/ubuntu jammy InRelease\n",
            "Get:5 http://archive.ubuntu.com/ubuntu jammy-updates InRelease [128 kB]\n",
            "Get:6 https://r2u.stat.illinois.edu/ubuntu jammy InRelease [6,555 B]\n",
            "Hit:7 https://ppa.launchpadcontent.net/deadsnakes/ppa/ubuntu jammy InRelease\n",
            "Hit:8 https://ppa.launchpadcontent.net/graphics-drivers/ppa/ubuntu jammy InRelease\n",
            "Get:9 https://r2u.stat.illinois.edu/ubuntu jammy/main all Packages [8,472 kB]\n",
            "Hit:10 https://ppa.launchpadcontent.net/ubuntugis/ppa/ubuntu jammy InRelease\n",
            "Get:11 http://archive.ubuntu.com/ubuntu jammy-backports InRelease [127 kB]\n",
            "Get:12 http://security.ubuntu.com/ubuntu jammy-security/restricted amd64 Packages [3,275 kB]\n",
            "Get:13 http://archive.ubuntu.com/ubuntu jammy-updates/main amd64 Packages [2,700 kB]\n",
            "Get:14 http://security.ubuntu.com/ubuntu jammy-security/universe amd64 Packages [1,164 kB]\n",
            "Get:15 http://security.ubuntu.com/ubuntu jammy-security/main amd64 Packages [2,424 kB]\n",
            "Get:16 https://r2u.stat.illinois.edu/ubuntu jammy/main amd64 Packages [2,612 kB]\n",
            "Get:17 http://archive.ubuntu.com/ubuntu jammy-updates/universe amd64 Packages [1,452 kB]\n",
            "Fetched 22.5 MB in 7s (3,344 kB/s)\n",
            "Reading package lists... Done\n",
            "Building dependency tree... Done\n",
            "Reading state information... Done\n",
            "51 packages can be upgraded. Run 'apt list --upgradable' to see them.\n",
            "\u001b[1;33mW: \u001b[0mSkipping acquire of configured file 'main/source/Sources' as repository 'https://r2u.stat.illinois.edu/ubuntu jammy InRelease' does not seem to provide it (sources.list entry misspelt?)\u001b[0m\n",
            "Reading package lists... Done\n",
            "Building dependency tree... Done\n",
            "Reading state information... Done\n",
            "ffmpeg is already the newest version (7:4.4.2-0ubuntu0.22.04.1).\n",
            "0 upgraded, 0 newly installed, 0 to remove and 51 not upgraded.\n"
          ]
        }
      ],
      "source": [
        "# 1)\n",
        "# instalamos 'ffmpeg'\n",
        "!sudo apt update\n",
        "!sudo apt install -y ffmpeg"
      ]
    },
    {
      "cell_type": "code",
      "source": [
        "# comprobamos que se ha instalado correctamente con las librerias\n",
        "!ffmpeg -version"
      ],
      "metadata": {
        "colab": {
          "base_uri": "https://localhost:8080/"
        },
        "id": "MC2ZmIzojG1G",
        "outputId": "cb874a06-e2e5-4e99-a4c7-b8bbf5e2e2ab"
      },
      "execution_count": 2,
      "outputs": [
        {
          "output_type": "stream",
          "name": "stdout",
          "text": [
            "ffmpeg version 4.4.2-0ubuntu0.22.04.1 Copyright (c) 2000-2021 the FFmpeg developers\n",
            "built with gcc 11 (Ubuntu 11.2.0-19ubuntu1)\n",
            "configuration: --prefix=/usr --extra-version=0ubuntu0.22.04.1 --toolchain=hardened --libdir=/usr/lib/x86_64-linux-gnu --incdir=/usr/include/x86_64-linux-gnu --arch=amd64 --enable-gpl --disable-stripping --enable-gnutls --enable-ladspa --enable-libaom --enable-libass --enable-libbluray --enable-libbs2b --enable-libcaca --enable-libcdio --enable-libcodec2 --enable-libdav1d --enable-libflite --enable-libfontconfig --enable-libfreetype --enable-libfribidi --enable-libgme --enable-libgsm --enable-libjack --enable-libmp3lame --enable-libmysofa --enable-libopenjpeg --enable-libopenmpt --enable-libopus --enable-libpulse --enable-librabbitmq --enable-librubberband --enable-libshine --enable-libsnappy --enable-libsoxr --enable-libspeex --enable-libsrt --enable-libssh --enable-libtheora --enable-libtwolame --enable-libvidstab --enable-libvorbis --enable-libvpx --enable-libwebp --enable-libx265 --enable-libxml2 --enable-libxvid --enable-libzimg --enable-libzmq --enable-libzvbi --enable-lv2 --enable-omx --enable-openal --enable-opencl --enable-opengl --enable-sdl2 --enable-pocketsphinx --enable-librsvg --enable-libmfx --enable-libdc1394 --enable-libdrm --enable-libiec61883 --enable-chromaprint --enable-frei0r --enable-libx264 --enable-shared\n",
            "libavutil      56. 70.100 / 56. 70.100\n",
            "libavcodec     58.134.100 / 58.134.100\n",
            "libavformat    58. 76.100 / 58. 76.100\n",
            "libavdevice    58. 13.100 / 58. 13.100\n",
            "libavfilter     7.110.100 /  7.110.100\n",
            "libswscale      5.  9.100 /  5.  9.100\n",
            "libswresample   3.  9.100 /  3.  9.100\n",
            "libpostproc    55.  9.100 / 55.  9.100\n"
          ]
        }
      ]
    },
    {
      "cell_type": "code",
      "source": [
        "# 2)\n",
        "# vamos a crear una clase llamada convert_color, para convertir un color RGB a YUV y viceversa\n",
        "# utilizaremos la fórmula de las diapositivas de teoria\n",
        "\n",
        "import subprocess\n",
        "\n",
        "class convert_color:\n",
        "    def rgb_to_yuv(self, r, g, b):\n",
        "        y = 0.257 * r + 0.504 * g + 0.098 * b + 16\n",
        "        u = -0.148 * r - 0.291 * g + 0.439 * b + 128\n",
        "        v = 0.439 * r - 0.368 * g - 0.071 * b + 128\n",
        "        return y, u, v\n",
        "\n",
        "    def yuv_to_rgb(self, y, u, v):\n",
        "        r = 1.164 * (y - 16) + 2.018 * (u - 128)\n",
        "        g = 1.164 * (y - 16) - 0.813 * (v - 128) - 0.391 * (u - 128)\n",
        "        b = 1.164 * (y - 16) + 1.596 * (v - 128)\n",
        "        # nos aseguramos de que los valores de RGB estén dentro del rango [0, 255]\n",
        "        r = min(max(0, r), 255)\n",
        "        g = min(max(0, g), 255)\n",
        "        b = min(max(0, b), 255)\n",
        "        return int(r), int(g), int(b)\n",
        "\n",
        "    # este método redimensiona una imagen y reduce la calidad utilizando FFmpeg\n",
        "    def reduce_image(self, input_path, output_path, width=640, height=480, quality=5):\n",
        "        command = [\n",
        "            'ffmpeg', '-i', input_path,\n",
        "            '-vf', f'scale={width}:{height}',\n",
        "            '-qscale:v', str(quality),\n",
        "            output_path\n",
        "        ]\n",
        "        # ejecutamos el comando de FFmpeg\n",
        "        subprocess.run(command, check=True)\n",
        "        print(f\"Imagen ha redimensionada y guardada en {output_path}\")\n",
        "\n",
        "    # este método lee los bytes de una imagen\n",
        "    def serpentine(self, file_path):\n",
        "        with open(file_path, 'rb') as f:\n",
        "            # primeor leemos los bytes del archivo\n",
        "            bytes_data = f.read()\n",
        "\n",
        "            # ahora convertimos los bytes en una lista de filas (cada fila 256 bytes)\n",
        "            row_length = 256\n",
        "            rows = [bytes_data[i:i + row_length] for i in range(0, len(bytes_data), row_length)]\n",
        "\n",
        "            # ahora procesamos las filas de la forma serpentine\n",
        "            serpentine_bytes = []\n",
        "            for idx, row in enumerate(rows):\n",
        "                if idx % 2 == 0:\n",
        "                    # fila par: de izquierda a derecha\n",
        "                    serpentine_bytes.extend(row)\n",
        "                else:\n",
        "                    # fila impar: de derecha a izquierda\n",
        "                    serpentine_bytes.extend(row[::-1])\n",
        "\n",
        "            print(\"Bytes serpentine form:\")\n",
        "            print(serpentine_bytes[:256])  # imprimimos solo los primeros 256 bytes\n",
        "\n",
        "    # este método convierte una imagen en blanco y negro aplicando la compresión más fuerte posible\n",
        "    def convert_to_bw(self, input_path, output_path):\n",
        "        # este comando convierte la imagen a blanco y negro comprimiendo con la máxima calidad\n",
        "        command = [\n",
        "            'ffmpeg', '-i', input_path,\n",
        "            '-vf', 'format=gray',  # convertimos la imagen a blanco y negro\n",
        "            '-qscale:v', '31',     # aplicamos la máxima compresión (peor calidad)\n",
        "            output_path\n",
        "        ]\n",
        "        # ejecutamos el comando de FFmpeg\n",
        "        subprocess.run(command, check=True)\n",
        "        print(f\"La imagen ha sido convertida a blanco y negro guardada en {output_path}\")\n",
        "\n",
        "    # este método aplica el run-lenght encoding a una secuencia de bytes\n",
        "    def run_length_encoding(self, byte_series):\n",
        "        rle = []\n",
        "        n = len(byte_series)\n",
        "        i = 0\n",
        "\n",
        "        while i < n:\n",
        "            count = 1\n",
        "            while i + 1 < n and byte_series[i] == byte_series[i + 1]:\n",
        "                i += 1\n",
        "                count += 1\n",
        "            rle.append((byte_series[i], count))\n",
        "            i += 1\n",
        "\n",
        "        return rle"
      ],
      "metadata": {
        "id": "vxmTpBrdlSKC"
      },
      "execution_count": 3,
      "outputs": []
    },
    {
      "cell_type": "code",
      "source": [
        "# probamos la clase\n",
        "# RGB a YUV\n",
        "r, g, b = 120, 65, 210\n",
        "y, u, v = convert_color().rgb_to_yuv(r, g, b)\n",
        "print(f\"RGB ({r}, {g}, {b}) -> YUV ({y:.2f}, {u:.2f}, {v:.2f})\")\n",
        "\n",
        "# YUV a RGB\n",
        "r_back, g_back, b_back = convert_color().yuv_to_rgb(y, u, v)\n",
        "print(f\"YUV ({y:.2f}, {u:.2f}, {v:.2f}) -> RGB ({r_back}, {g_back}, {b_back})\")"
      ],
      "metadata": {
        "colab": {
          "base_uri": "https://localhost:8080/"
        },
        "id": "TQMVcktznupW",
        "outputId": "1e846266-6ab8-46d5-fab3-0858948dc38c"
      },
      "execution_count": 4,
      "outputs": [
        {
          "output_type": "stream",
          "name": "stdout",
          "text": [
            "RGB (120, 65, 210) -> YUV (100.18, 183.51, 141.85)\n",
            "YUV (100.18, 183.51, 141.85) -> RGB (210, 65, 120)\n"
          ]
        }
      ]
    },
    {
      "cell_type": "code",
      "source": [
        "# 3)\n",
        "# añadimos un nuevo método a la clase convert_color llamado reduce_image para reducir las imagenes a una calidad inferior\n",
        "# con el siguiente código probamos la clase:\n",
        "imagen = 'campus_upf.jpg'\n",
        "convert_color().reduce_image(imagen, 'output.jpg', width=320, height=240, quality=5)"
      ],
      "metadata": {
        "colab": {
          "base_uri": "https://localhost:8080/"
        },
        "id": "IekgQYRIpyen",
        "outputId": "719dda03-995b-4068-9e6d-8d8f019c1cb3"
      },
      "execution_count": 6,
      "outputs": [
        {
          "output_type": "stream",
          "name": "stdout",
          "text": [
            "Imagen ha redimensionada y guardada en output.jpg\n"
          ]
        }
      ]
    },
    {
      "cell_type": "code",
      "source": [
        "# 4)\n",
        "# añadimos un nuevo método a la clase convert_color llamado serpentine para leer los bytes del archivo utilizando la forma serpentine\n",
        "# con el siguiente código probamos la clase:\n",
        "convert_color().serpentine(imagen)"
      ],
      "metadata": {
        "colab": {
          "base_uri": "https://localhost:8080/"
        },
        "id": "jYITgXVLp0xB",
        "outputId": "b62ce180-d4a1-45b3-ff32-9c7917e92ce5"
      },
      "execution_count": 7,
      "outputs": [
        {
          "output_type": "stream",
          "name": "stdout",
          "text": [
            "Bytes serpentine form:\n",
            "[255, 216, 255, 224, 0, 16, 74, 70, 73, 70, 0, 1, 2, 0, 0, 1, 0, 1, 0, 0, 255, 219, 0, 67, 0, 2, 1, 1, 1, 1, 1, 2, 1, 1, 1, 2, 2, 2, 2, 2, 4, 3, 2, 2, 2, 2, 5, 4, 4, 3, 4, 6, 5, 6, 6, 6, 5, 6, 6, 6, 7, 9, 8, 6, 7, 9, 7, 6, 6, 8, 11, 8, 9, 10, 10, 10, 10, 10, 6, 8, 11, 12, 11, 10, 12, 9, 10, 10, 10, 255, 219, 0, 67, 1, 2, 2, 2, 2, 2, 2, 5, 3, 3, 5, 10, 7, 6, 7, 10, 10, 10, 10, 10, 10, 10, 10, 10, 10, 10, 10, 10, 10, 10, 10, 10, 10, 10, 10, 10, 10, 10, 10, 10, 10, 10, 10, 10, 10, 10, 10, 10, 10, 10, 10, 10, 10, 10, 10, 10, 10, 10, 10, 10, 10, 10, 10, 10, 10, 255, 194, 0, 17, 8, 2, 72, 3, 32, 3, 1, 34, 0, 2, 17, 1, 3, 17, 1, 255, 196, 0, 29, 0, 0, 0, 7, 1, 1, 1, 0, 0, 0, 0, 0, 0, 0, 0, 0, 0, 1, 2, 3, 4, 5, 6, 7, 0, 8, 9, 255, 196, 0, 27, 1, 0, 2, 3, 1, 1, 1, 0, 0, 0, 0, 0, 0, 0, 0, 0, 0, 0, 1, 2, 3, 4, 5, 6, 7, 255, 218, 0, 12, 3, 1, 0, 2, 16, 3, 16, 0, 0, 1, 245, 144, 31, 187, 24]\n"
          ]
        }
      ]
    },
    {
      "cell_type": "code",
      "source": [
        "# 5)\n",
        "# añadimos un nuevo método a la clase convert_color llamado convert_to_bw para convertir una imagen a blanco y negro aplicando la compresión máxima, es decir la peor calidad\n",
        "# con el siguiente código probamos la clase:\n",
        "convert_color().convert_to_bw(imagen, 'output_bw.jpg')"
      ],
      "metadata": {
        "colab": {
          "base_uri": "https://localhost:8080/"
        },
        "id": "CANjmRTMuV8n",
        "outputId": "b9840005-83ad-492c-98f3-7b7b433c6d12"
      },
      "execution_count": 8,
      "outputs": [
        {
          "output_type": "stream",
          "name": "stdout",
          "text": [
            "La imagen ha sido convertida a blanco y negro guardada en output_bw.jpg\n"
          ]
        }
      ]
    },
    {
      "cell_type": "code",
      "source": [
        "# 5)\n",
        "# añadimos un nuevo método a la clase convert_color llamado run_length_encoding\n",
        "# con el siguiente código probamos la clase:\n",
        "byte_series = [17, 8, 54, 0, 0, 0, 97, 5, 16, 0, 45, 23, 0, 0, 0, 0, 0, 3, 67, 0, 0, 8]\n",
        "rle_result = convert_color().run_length_encoding(byte_series)\n",
        "print(\"Run-Lenght Encoding (RLE):\")\n",
        "print(rle_result)"
      ],
      "metadata": {
        "colab": {
          "base_uri": "https://localhost:8080/"
        },
        "id": "ERfsjUukxap4",
        "outputId": "3ae19da4-ccaf-48a4-efc8-f2b35c8d8e90"
      },
      "execution_count": 9,
      "outputs": [
        {
          "output_type": "stream",
          "name": "stdout",
          "text": [
            "Run-Lenght Encoding (RLE):\n",
            "[(17, 1), (8, 1), (54, 1), (0, 3), (97, 1), (5, 1), (16, 1), (0, 1), (45, 1), (23, 1), (0, 5), (3, 1), (67, 1), (0, 2), (8, 1)]\n"
          ]
        }
      ]
    },
    {
      "cell_type": "code",
      "source": [
        "# 6)\n",
        "# creamos la clase DCT\n",
        "\n",
        "import numpy as np\n",
        "from scipy.fftpack import dct, idct\n",
        "\n",
        "class DCTConverter:\n",
        "    def __init__(self):\n",
        "        \"\"\"Inicializa la clase DCTConverter\"\"\"\n",
        "        pass\n",
        "\n",
        "    # este metodo aplica la DCT a una secuencia de datos\n",
        "    def apply_dct(self, data):\n",
        "        if isinstance(data, list):\n",
        "            data = np.array(data)  # convertimos a un array numpy si es una lista\n",
        "        return dct(data, norm='ortho')\n",
        "\n",
        "    # este metodo aplica la IDCT a los datos transformados\n",
        "    def apply_idct(self, transformed_data):\n",
        "        if isinstance(transformed_data, list):\n",
        "            transformed_data = np.array(transformed_data)  # convertimos a un array numpy si es una lista\n",
        "        return idct(transformed_data, norm='ortho')\n",
        "\n",
        "    # este metodo aplica la DCT y elimina frecuencias por debajo de un umbral\n",
        "    def compress_using_dct(self, data, threshold=0.1):\n",
        "        # Primero, aplicamos DCT\n",
        "        transformed_data = self.apply_dct(data)\n",
        "\n",
        "        # aqui eliminamos las frecuencias de baja amplitud\n",
        "        transformed_data[np.abs(transformed_data) < threshold] = 0\n",
        "\n",
        "        return transformed_data\n",
        "\n",
        "    # este metodo aplica la IDCT a los datos comprimidos para recuperar la secuencia original\n",
        "    def decompress_using_dct(self, transformed_data):\n",
        "        return self.apply_idct(transformed_data)"
      ],
      "metadata": {
        "id": "5iJ-LZnGzBeU"
      },
      "execution_count": 10,
      "outputs": []
    },
    {
      "cell_type": "code",
      "source": [
        "# probamos la clase\n",
        "\n",
        "data = [10, 20, 30, 40, 50, 60, 70, 80, 90, 100]\n",
        "\n",
        "# aplicamos la DCT a los datos\n",
        "transformed_data = DCTConverter().apply_dct(data)\n",
        "print(\"Datos obtenidos después de aplicar la DCT:\")\n",
        "print(transformed_data)\n",
        "\n",
        "# aplicamos IDCT a los datos transformados\n",
        "recovered_data = DCTConverter().apply_idct(transformed_data)\n",
        "print(\"\\nDatos obtenidos después de aplicar IDCT:\")\n",
        "print(recovered_data)\n",
        "\n",
        "# comprimimos los datos utilizando la DCT (eliminando frecuencias por debajo de un umbral)\n",
        "compressed_data = DCTConverter().compress_using_dct(data, threshold=10)\n",
        "print(\"\\nDatos comprimidos usando DCT:\")\n",
        "print(compressed_data)\n",
        "\n",
        "# recuperamos los datos comprimidos\n",
        "decompressed_data = DCTConverter().decompress_using_dct(compressed_data)\n",
        "print(\"\\nDatos después de descomprimir utilizando DCT:\")\n",
        "print(decompressed_data)"
      ],
      "metadata": {
        "colab": {
          "base_uri": "https://localhost:8080/"
        },
        "id": "krRTv-By0Ixl",
        "outputId": "c9bd1cc4-615c-4bb7-9c20-06379783b814"
      },
      "execution_count": 11,
      "outputs": [
        {
          "output_type": "stream",
          "name": "stdout",
          "text": [
            "Datos obtenidos después de aplicar la DCT:\n",
            "[ 1.73925271e+02 -9.02485113e+01  0.00000000e+00 -9.66656903e+00\n",
            "  5.14153554e-15 -3.16227766e+00  3.73554423e-15 -1.27870393e+00\n",
            "  0.00000000e+00 -3.58573004e-01]\n",
            "\n",
            "Datos obtenidos después de aplicar IDCT:\n",
            "[ 10.  20.  30.  40.  50.  60.  70.  80.  90. 100.]\n",
            "\n",
            "Datos comprimidos usando DCT:\n",
            "[173.92527131 -90.24851126   0.           0.           0.\n",
            "   0.           0.           0.           0.           0.        ]\n",
            "\n",
            "Datos después de descomprimir utilizando DCT:\n",
            "[15.13654181 19.03865484 26.4609149  36.67677944 48.68624849 61.31375151\n",
            " 73.32322056 83.5390851  90.96134516 94.86345819]\n"
          ]
        }
      ]
    },
    {
      "cell_type": "code",
      "source": [
        "pip install PyWavelets"
      ],
      "metadata": {
        "colab": {
          "base_uri": "https://localhost:8080/"
        },
        "id": "4SCwFMTg13BV",
        "outputId": "008419d1-86bf-435f-f8b2-7521e2ad172d"
      },
      "execution_count": 12,
      "outputs": [
        {
          "output_type": "stream",
          "name": "stdout",
          "text": [
            "Collecting PyWavelets\n",
            "  Downloading pywavelets-1.7.0-cp310-cp310-manylinux_2_17_x86_64.manylinux2014_x86_64.whl.metadata (9.0 kB)\n",
            "Requirement already satisfied: numpy<3,>=1.23 in /usr/local/lib/python3.10/dist-packages (from PyWavelets) (1.26.4)\n",
            "Downloading pywavelets-1.7.0-cp310-cp310-manylinux_2_17_x86_64.manylinux2014_x86_64.whl (4.5 MB)\n",
            "\u001b[2K   \u001b[90m━━━━━━━━━━━━━━━━━━━━━━━━━━━━━━━━━━━━━━━━\u001b[0m \u001b[32m4.5/4.5 MB\u001b[0m \u001b[31m32.3 MB/s\u001b[0m eta \u001b[36m0:00:00\u001b[0m\n",
            "\u001b[?25hInstalling collected packages: PyWavelets\n",
            "Successfully installed PyWavelets-1.7.0\n"
          ]
        }
      ]
    },
    {
      "cell_type": "code",
      "source": [
        "# 7)\n",
        "# nos piden lo mismo que en el ejercicio anterior, pero esta vez con DWT\n",
        "import pywt\n",
        "\n",
        "class DWTConverter:\n",
        "    def __init__(self, wavelet='haar', level=1):\n",
        "        self.wavelet = wavelet\n",
        "        self.level = level\n",
        "\n",
        "    def apply_dwt(self, data):\n",
        "        if isinstance(data, list):\n",
        "            data = np.array(data)\n",
        "        coeffs = pywt.wavedec(data, self.wavelet, level=self.level)\n",
        "        return coeffs\n",
        "\n",
        "    def apply_idwt(self, coeffs):\n",
        "        # aplicamos la IDWT utilizando pywt\n",
        "        recovered_data = pywt.waverec(coeffs, self.wavelet)\n",
        "        return recovered_data\n",
        "\n",
        "    def compress_using_dwt(self, data, threshold=0.1):\n",
        "        # aplicamos la DWT\n",
        "        coeffs = self.apply_dwt(data)\n",
        "\n",
        "        # aqui eliminamos las frecuencias de baja amplitud\n",
        "        for i in range(len(coeffs)):\n",
        "            coeffs[i] = np.where(np.abs(coeffs[i]) < threshold, 0, coeffs[i])\n",
        "\n",
        "        return coeffs\n",
        "\n",
        "    def decompress_using_dwt(self, coeffs):\n",
        "        # recuperamos los datos aplicando la IDWT\n",
        "        return self.apply_idwt(coeffs)"
      ],
      "metadata": {
        "id": "w_wo1-c61pq-"
      },
      "execution_count": 13,
      "outputs": []
    },
    {
      "cell_type": "code",
      "source": [
        "# probamos la clase\n",
        "\n",
        "data = [10, 20, 30, 40, 50, 60, 70, 80, 90, 100]\n",
        "\n",
        "# aplicamos la DWT a los datos\n",
        "transformed_data = DWTConverter().apply_dwt(data)\n",
        "print(\"Datos obtenidos después de aplicar la DWT:\")\n",
        "print(transformed_data)\n",
        "\n",
        "# aplicamos IDWT a los datos transformados\n",
        "recovered_data = DWTConverter().apply_idwt(transformed_data)\n",
        "print(\"\\nDatos obtenidos después de aplicar IDCT:\")\n",
        "print(recovered_data)\n",
        "\n",
        "# comprimimos los datos utilizando la DWT (eliminando frecuencias por debajo de un umbral)\n",
        "compressed_data = DWTConverter().compress_using_dwt(data, threshold=10)\n",
        "print(\"\\nDatos comprimidos usando DWT:\")\n",
        "print(compressed_data)\n",
        "\n",
        "# recuperamos los datos comprimidos\n",
        "decompressed_data = DWTConverter().decompress_using_dwt(compressed_data)\n",
        "print(\"\\nDatos después de descomprimir utilizando DWT:\")\n",
        "print(decompressed_data)"
      ],
      "metadata": {
        "colab": {
          "base_uri": "https://localhost:8080/"
        },
        "id": "7ZaTJomQ2l1e",
        "outputId": "0d7b724d-f280-46c6-d2a6-3d468e0f3483"
      },
      "execution_count": 14,
      "outputs": [
        {
          "output_type": "stream",
          "name": "stdout",
          "text": [
            "Datos obtenidos después de aplicar la DWT:\n",
            "[array([ 21.21320344,  49.49747468,  77.78174593, 106.06601718,\n",
            "       134.35028843]), array([-7.07106781, -7.07106781, -7.07106781, -7.07106781, -7.07106781])]\n",
            "\n",
            "Datos obtenidos después de aplicar IDCT:\n",
            "[ 10.  20.  30.  40.  50.  60.  70.  80.  90. 100.]\n",
            "\n",
            "Datos comprimidos usando DWT:\n",
            "[array([ 21.21320344,  49.49747468,  77.78174593, 106.06601718,\n",
            "       134.35028843]), array([0., 0., 0., 0., 0.])]\n",
            "\n",
            "Datos después de descomprimir utilizando DWT:\n",
            "[15. 15. 35. 35. 55. 55. 75. 75. 95. 95.]\n"
          ]
        }
      ]
    },
    {
      "cell_type": "code",
      "source": [
        "# 8)\n",
        "# Use any AI (YES, you can NOW, you lazy!) to create UNIT TESTS to your code, for each method and class\n",
        "\n",
        "import unittest\n",
        "import numpy as np\n",
        "from scipy.fftpack import dct, idct\n",
        "\n",
        "\n",
        "class TestConvertColor(unittest.TestCase):\n",
        "    def test_rgb_to_yuv(self):\n",
        "        cc = convert_color()\n",
        "        y, u, v = cc.rgb_to_yuv(120, 65, 210)\n",
        "        self.assertAlmostEqual(y, 89.81, places=2)\n",
        "        self.assertAlmostEqual(u, 162.13, places=2)\n",
        "        self.assertAlmostEqual(v, 146.73, places=2)\n",
        "\n",
        "    def test_yuv_to_rgb(self):\n",
        "        cc = convert_color()\n",
        "        r, g, b = cc.yuv_to_rgb(89.81, 162.13, 146.73)\n",
        "        self.assertEqual((r, g, b), (120, 65, 210))\n",
        "\n",
        "    def test_run_length_encoding(self):\n",
        "        cc = convert_color()\n",
        "        byte_series = [1, 1, 2, 3, 3, 3, 4]\n",
        "        rle = cc.run_length_encoding(byte_series)\n",
        "        self.assertEqual(rle, [(1, 2), (2, 1), (3, 3), (4, 1)])\n",
        "\n",
        "\n",
        "class TestDCTConverter(unittest.TestCase):\n",
        "    def test_apply_dct(self):\n",
        "        dct_converter = DCTConverter()\n",
        "        data = [10, 20, 30, 40, 50]\n",
        "        transformed = dct_converter.apply_dct(data)\n",
        "        self.assertTrue(isinstance(transformed, np.ndarray))\n",
        "\n",
        "    def test_apply_idct(self):\n",
        "        dct_converter = DCTConverter()\n",
        "        data = [10, 20, 30, 40, 50]\n",
        "        transformed = dct_converter.apply_dct(data)\n",
        "        recovered = dct_converter.apply_idct(transformed)\n",
        "        np.testing.assert_almost_equal(data, recovered, decimal=5)\n",
        "\n",
        "    def test_compress_using_dct(self):\n",
        "        dct_converter = DCTConverter()\n",
        "        data = [10, 20, 30, 40, 50]\n",
        "        compressed = dct_converter.compress_using_dct(data, threshold=10)\n",
        "        self.assertTrue(all(compressed >= 0))\n",
        "\n",
        "\n",
        "class TestDWTConverter(unittest.TestCase):\n",
        "    def test_apply_dwt(self):\n",
        "        dwt_converter = DWTConverter()\n",
        "        data = [10, 20, 30, 40, 50]\n",
        "        transformed = dwt_converter.apply_dwt(data)\n",
        "        self.assertTrue(isinstance(transformed, list))\n",
        "\n",
        "    def test_apply_idwt(self):\n",
        "        dwt_converter = DWTConverter()\n",
        "        data = [10, 20, 30, 40, 50]\n",
        "        transformed = dwt_converter.apply_dwt(data)\n",
        "        recovered = dwt_converter.apply_idwt(transformed)\n",
        "        np.testing.assert_almost_equal(data, recovered, decimal=5)\n",
        "\n",
        "    def test_compress_using_dwt(self):\n",
        "        dwt_converter = DWTConverter()\n",
        "        data = [10, 20, 30, 40, 50]\n",
        "        compressed = dwt_converter.compress_using_dwt(data, threshold=10)\n",
        "        for coeffs in compressed:\n",
        "            self.assertTrue(all(np.abs(coeffs) >= 0))\n",
        "\n",
        "if __name__ == \"__main__\":\n",
        "    unittest.main(argv=[''], verbosity=2, exit=False)\n"
      ],
      "metadata": {
        "colab": {
          "base_uri": "https://localhost:8080/"
        },
        "id": "r01yqflODkSr",
        "outputId": "4b061463-bceb-4278-c785-435ad04a5e26"
      },
      "execution_count": 16,
      "outputs": [
        {
          "output_type": "stream",
          "name": "stderr",
          "text": [
            "test_rgb_to_yuv (__main__.TestConvertColor) ... FAIL\n",
            "test_run_length_encoding (__main__.TestConvertColor) ... ok\n",
            "test_yuv_to_rgb (__main__.TestConvertColor) ... FAIL\n",
            "test_apply_dct (__main__.TestDCTConverter) ... ok\n",
            "test_apply_idct (__main__.TestDCTConverter) ... ok\n",
            "test_compress_using_dct (__main__.TestDCTConverter) ... FAIL\n",
            "test_apply_dwt (__main__.TestDWTConverter) ... ok\n",
            "test_apply_idwt (__main__.TestDWTConverter) ... FAIL\n",
            "test_compress_using_dwt (__main__.TestDWTConverter) ... ok\n",
            "\n",
            "======================================================================\n",
            "FAIL: test_rgb_to_yuv (__main__.TestConvertColor)\n",
            "----------------------------------------------------------------------\n",
            "Traceback (most recent call last):\n",
            "  File \"<ipython-input-16-facccd175e09>\", line 13, in test_rgb_to_yuv\n",
            "    self.assertAlmostEqual(y, 89.81, places=2)\n",
            "AssertionError: 100.17999999999999 != 89.81 within 2 places (10.36999999999999 difference)\n",
            "\n",
            "======================================================================\n",
            "FAIL: test_yuv_to_rgb (__main__.TestConvertColor)\n",
            "----------------------------------------------------------------------\n",
            "Traceback (most recent call last):\n",
            "  File \"<ipython-input-16-facccd175e09>\", line 20, in test_yuv_to_rgb\n",
            "    self.assertEqual((r, g, b), (120, 65, 210))\n",
            "AssertionError: Tuples differ: (154, 57, 115) != (120, 65, 210)\n",
            "\n",
            "First differing element 0:\n",
            "154\n",
            "120\n",
            "\n",
            "- (154, 57, 115)\n",
            "+ (120, 65, 210)\n",
            "\n",
            "======================================================================\n",
            "FAIL: test_compress_using_dct (__main__.TestDCTConverter)\n",
            "----------------------------------------------------------------------\n",
            "Traceback (most recent call last):\n",
            "  File \"<ipython-input-16-facccd175e09>\", line 47, in test_compress_using_dct\n",
            "    self.assertTrue(all(compressed >= 0))\n",
            "AssertionError: False is not true\n",
            "\n",
            "======================================================================\n",
            "FAIL: test_apply_idwt (__main__.TestDWTConverter)\n",
            "----------------------------------------------------------------------\n",
            "Traceback (most recent call last):\n",
            "  File \"<ipython-input-16-facccd175e09>\", line 62, in test_apply_idwt\n",
            "    np.testing.assert_almost_equal(data, recovered, decimal=5)\n",
            "  File \"/usr/lib/python3.10/contextlib.py\", line 79, in inner\n",
            "    return func(*args, **kwds)\n",
            "  File \"/usr/local/lib/python3.10/dist-packages/numpy/testing/_private/utils.py\", line 521, in assert_almost_equal\n",
            "    return assert_array_almost_equal(actual, desired, decimal, err_msg)\n",
            "  File \"/usr/lib/python3.10/contextlib.py\", line 79, in inner\n",
            "    return func(*args, **kwds)\n",
            "  File \"/usr/local/lib/python3.10/dist-packages/numpy/testing/_private/utils.py\", line 1034, in assert_array_almost_equal\n",
            "    assert_array_compare(compare, x, y, err_msg=err_msg, verbose=verbose,\n",
            "  File \"/usr/lib/python3.10/contextlib.py\", line 79, in inner\n",
            "    return func(*args, **kwds)\n",
            "  File \"/usr/local/lib/python3.10/dist-packages/numpy/testing/_private/utils.py\", line 713, in assert_array_compare\n",
            "    raise AssertionError(msg)\n",
            "AssertionError: \n",
            "Arrays are not almost equal to 5 decimals\n",
            "\n",
            "(shapes (5,), (6,) mismatch)\n",
            " x: array([10, 20, 30, 40, 50])\n",
            " y: array([10., 20., 30., 40., 50., 50.])\n",
            "\n",
            "----------------------------------------------------------------------\n",
            "Ran 9 tests in 0.033s\n",
            "\n",
            "FAILED (failures=4)\n"
          ]
        }
      ]
    }
  ]
}